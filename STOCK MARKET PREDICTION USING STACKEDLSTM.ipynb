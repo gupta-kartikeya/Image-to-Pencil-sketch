{
 "cells": [
  {
   "cell_type": "markdown",
   "id": "a1fea6ac",
   "metadata": {},
   "source": [
    "NAME- KARTIKEYA GUPTA\n",
    "\n",
    "### LETSGROWMORE INTERNSHIP BEGINNER LEVEL TASK-2\n",
    "\n",
    "#### STOCK MARKET PREDICTION USING STACKEDLSTM"
   ]
  },
  {
   "cell_type": "code",
   "execution_count": 1,
   "id": "772eace4",
   "metadata": {},
   "outputs": [],
   "source": [
    "import pandas as pd\n",
    "import io\n",
    "import requests\n",
    "import numpy as np\n",
    "import matplotlib.pyplot as plt\n",
    "%matplotlib inline\n",
    "import math\n",
    "from sklearn.metrics import mean_squared_error"
   ]
  },
  {
   "cell_type": "code",
   "execution_count": 2,
   "id": "b3bff011",
   "metadata": {},
   "outputs": [],
   "source": [
    "url=\"https://raw.githubusercontent.com/mwitiderrick/stockprice/master/NSE-TATAGLOBAL.csv\"\n",
    "s=requests.get(url).content\n",
    "data=pd.read_csv(io.StringIO(s.decode('utf-8')))"
   ]
  },
  {
   "cell_type": "code",
   "execution_count": 3,
   "id": "067977e7",
   "metadata": {},
   "outputs": [
    {
     "data": {
      "text/html": [
       "<div>\n",
       "<style scoped>\n",
       "    .dataframe tbody tr th:only-of-type {\n",
       "        vertical-align: middle;\n",
       "    }\n",
       "\n",
       "    .dataframe tbody tr th {\n",
       "        vertical-align: top;\n",
       "    }\n",
       "\n",
       "    .dataframe thead th {\n",
       "        text-align: right;\n",
       "    }\n",
       "</style>\n",
       "<table border=\"1\" class=\"dataframe\">\n",
       "  <thead>\n",
       "    <tr style=\"text-align: right;\">\n",
       "      <th></th>\n",
       "      <th>Date</th>\n",
       "      <th>Open</th>\n",
       "      <th>High</th>\n",
       "      <th>Low</th>\n",
       "      <th>Last</th>\n",
       "      <th>Close</th>\n",
       "      <th>Total Trade Quantity</th>\n",
       "      <th>Turnover (Lacs)</th>\n",
       "    </tr>\n",
       "  </thead>\n",
       "  <tbody>\n",
       "    <tr>\n",
       "      <th>0</th>\n",
       "      <td>2018-09-28</td>\n",
       "      <td>234.05</td>\n",
       "      <td>235.95</td>\n",
       "      <td>230.20</td>\n",
       "      <td>233.50</td>\n",
       "      <td>233.75</td>\n",
       "      <td>3069914</td>\n",
       "      <td>7162.35</td>\n",
       "    </tr>\n",
       "    <tr>\n",
       "      <th>1</th>\n",
       "      <td>2018-09-27</td>\n",
       "      <td>234.55</td>\n",
       "      <td>236.80</td>\n",
       "      <td>231.10</td>\n",
       "      <td>233.80</td>\n",
       "      <td>233.25</td>\n",
       "      <td>5082859</td>\n",
       "      <td>11859.95</td>\n",
       "    </tr>\n",
       "    <tr>\n",
       "      <th>2</th>\n",
       "      <td>2018-09-26</td>\n",
       "      <td>240.00</td>\n",
       "      <td>240.00</td>\n",
       "      <td>232.50</td>\n",
       "      <td>235.00</td>\n",
       "      <td>234.25</td>\n",
       "      <td>2240909</td>\n",
       "      <td>5248.60</td>\n",
       "    </tr>\n",
       "    <tr>\n",
       "      <th>3</th>\n",
       "      <td>2018-09-25</td>\n",
       "      <td>233.30</td>\n",
       "      <td>236.75</td>\n",
       "      <td>232.00</td>\n",
       "      <td>236.25</td>\n",
       "      <td>236.10</td>\n",
       "      <td>2349368</td>\n",
       "      <td>5503.90</td>\n",
       "    </tr>\n",
       "    <tr>\n",
       "      <th>4</th>\n",
       "      <td>2018-09-24</td>\n",
       "      <td>233.55</td>\n",
       "      <td>239.20</td>\n",
       "      <td>230.75</td>\n",
       "      <td>234.00</td>\n",
       "      <td>233.30</td>\n",
       "      <td>3423509</td>\n",
       "      <td>7999.55</td>\n",
       "    </tr>\n",
       "  </tbody>\n",
       "</table>\n",
       "</div>"
      ],
      "text/plain": [
       "         Date    Open    High     Low    Last   Close  Total Trade Quantity  \\\n",
       "0  2018-09-28  234.05  235.95  230.20  233.50  233.75               3069914   \n",
       "1  2018-09-27  234.55  236.80  231.10  233.80  233.25               5082859   \n",
       "2  2018-09-26  240.00  240.00  232.50  235.00  234.25               2240909   \n",
       "3  2018-09-25  233.30  236.75  232.00  236.25  236.10               2349368   \n",
       "4  2018-09-24  233.55  239.20  230.75  234.00  233.30               3423509   \n",
       "\n",
       "   Turnover (Lacs)  \n",
       "0          7162.35  \n",
       "1         11859.95  \n",
       "2          5248.60  \n",
       "3          5503.90  \n",
       "4          7999.55  "
      ]
     },
     "execution_count": 3,
     "metadata": {},
     "output_type": "execute_result"
    }
   ],
   "source": [
    "data.head()"
   ]
  },
  {
   "cell_type": "code",
   "execution_count": 4,
   "id": "1658b877",
   "metadata": {},
   "outputs": [
    {
     "name": "stdout",
     "output_type": "stream",
     "text": [
      "<class 'pandas.core.frame.DataFrame'>\n",
      "RangeIndex: 2035 entries, 0 to 2034\n",
      "Data columns (total 8 columns):\n",
      " #   Column                Non-Null Count  Dtype  \n",
      "---  ------                --------------  -----  \n",
      " 0   Date                  2035 non-null   object \n",
      " 1   Open                  2035 non-null   float64\n",
      " 2   High                  2035 non-null   float64\n",
      " 3   Low                   2035 non-null   float64\n",
      " 4   Last                  2035 non-null   float64\n",
      " 5   Close                 2035 non-null   float64\n",
      " 6   Total Trade Quantity  2035 non-null   int64  \n",
      " 7   Turnover (Lacs)       2035 non-null   float64\n",
      "dtypes: float64(6), int64(1), object(1)\n",
      "memory usage: 127.3+ KB\n"
     ]
    }
   ],
   "source": [
    "data.info()"
   ]
  },
  {
   "cell_type": "code",
   "execution_count": 5,
   "id": "77ed67a2",
   "metadata": {},
   "outputs": [
    {
     "data": {
      "text/plain": [
       "Date                    0\n",
       "Open                    0\n",
       "High                    0\n",
       "Low                     0\n",
       "Last                    0\n",
       "Close                   0\n",
       "Total Trade Quantity    0\n",
       "Turnover (Lacs)         0\n",
       "dtype: int64"
      ]
     },
     "execution_count": 5,
     "metadata": {},
     "output_type": "execute_result"
    }
   ],
   "source": [
    "data.isna().sum()"
   ]
  },
  {
   "cell_type": "code",
   "execution_count": 6,
   "id": "8a882da6",
   "metadata": {
    "scrolled": true
   },
   "outputs": [
    {
     "data": {
      "text/html": [
       "<div>\n",
       "<style scoped>\n",
       "    .dataframe tbody tr th:only-of-type {\n",
       "        vertical-align: middle;\n",
       "    }\n",
       "\n",
       "    .dataframe tbody tr th {\n",
       "        vertical-align: top;\n",
       "    }\n",
       "\n",
       "    .dataframe thead th {\n",
       "        text-align: right;\n",
       "    }\n",
       "</style>\n",
       "<table border=\"1\" class=\"dataframe\">\n",
       "  <thead>\n",
       "    <tr style=\"text-align: right;\">\n",
       "      <th></th>\n",
       "      <th>Open</th>\n",
       "      <th>High</th>\n",
       "      <th>Low</th>\n",
       "      <th>Last</th>\n",
       "      <th>Close</th>\n",
       "      <th>Total Trade Quantity</th>\n",
       "      <th>Turnover (Lacs)</th>\n",
       "    </tr>\n",
       "  </thead>\n",
       "  <tbody>\n",
       "    <tr>\n",
       "      <th>count</th>\n",
       "      <td>2035.000000</td>\n",
       "      <td>2035.000000</td>\n",
       "      <td>2035.000000</td>\n",
       "      <td>2035.000000</td>\n",
       "      <td>2035.00000</td>\n",
       "      <td>2.035000e+03</td>\n",
       "      <td>2035.000000</td>\n",
       "    </tr>\n",
       "    <tr>\n",
       "      <th>mean</th>\n",
       "      <td>149.713735</td>\n",
       "      <td>151.992826</td>\n",
       "      <td>147.293931</td>\n",
       "      <td>149.474251</td>\n",
       "      <td>149.45027</td>\n",
       "      <td>2.335681e+06</td>\n",
       "      <td>3899.980565</td>\n",
       "    </tr>\n",
       "    <tr>\n",
       "      <th>std</th>\n",
       "      <td>48.664509</td>\n",
       "      <td>49.413109</td>\n",
       "      <td>47.931958</td>\n",
       "      <td>48.732570</td>\n",
       "      <td>48.71204</td>\n",
       "      <td>2.091778e+06</td>\n",
       "      <td>4570.767877</td>\n",
       "    </tr>\n",
       "    <tr>\n",
       "      <th>min</th>\n",
       "      <td>81.100000</td>\n",
       "      <td>82.800000</td>\n",
       "      <td>80.000000</td>\n",
       "      <td>81.000000</td>\n",
       "      <td>80.95000</td>\n",
       "      <td>3.961000e+04</td>\n",
       "      <td>37.040000</td>\n",
       "    </tr>\n",
       "    <tr>\n",
       "      <th>25%</th>\n",
       "      <td>120.025000</td>\n",
       "      <td>122.100000</td>\n",
       "      <td>118.300000</td>\n",
       "      <td>120.075000</td>\n",
       "      <td>120.05000</td>\n",
       "      <td>1.146444e+06</td>\n",
       "      <td>1427.460000</td>\n",
       "    </tr>\n",
       "    <tr>\n",
       "      <th>50%</th>\n",
       "      <td>141.500000</td>\n",
       "      <td>143.400000</td>\n",
       "      <td>139.600000</td>\n",
       "      <td>141.100000</td>\n",
       "      <td>141.25000</td>\n",
       "      <td>1.783456e+06</td>\n",
       "      <td>2512.030000</td>\n",
       "    </tr>\n",
       "    <tr>\n",
       "      <th>75%</th>\n",
       "      <td>157.175000</td>\n",
       "      <td>159.400000</td>\n",
       "      <td>155.150000</td>\n",
       "      <td>156.925000</td>\n",
       "      <td>156.90000</td>\n",
       "      <td>2.813594e+06</td>\n",
       "      <td>4539.015000</td>\n",
       "    </tr>\n",
       "    <tr>\n",
       "      <th>max</th>\n",
       "      <td>327.700000</td>\n",
       "      <td>328.750000</td>\n",
       "      <td>321.650000</td>\n",
       "      <td>325.950000</td>\n",
       "      <td>325.75000</td>\n",
       "      <td>2.919102e+07</td>\n",
       "      <td>55755.080000</td>\n",
       "    </tr>\n",
       "  </tbody>\n",
       "</table>\n",
       "</div>"
      ],
      "text/plain": [
       "              Open         High          Low         Last       Close  \\\n",
       "count  2035.000000  2035.000000  2035.000000  2035.000000  2035.00000   \n",
       "mean    149.713735   151.992826   147.293931   149.474251   149.45027   \n",
       "std      48.664509    49.413109    47.931958    48.732570    48.71204   \n",
       "min      81.100000    82.800000    80.000000    81.000000    80.95000   \n",
       "25%     120.025000   122.100000   118.300000   120.075000   120.05000   \n",
       "50%     141.500000   143.400000   139.600000   141.100000   141.25000   \n",
       "75%     157.175000   159.400000   155.150000   156.925000   156.90000   \n",
       "max     327.700000   328.750000   321.650000   325.950000   325.75000   \n",
       "\n",
       "       Total Trade Quantity  Turnover (Lacs)  \n",
       "count          2.035000e+03      2035.000000  \n",
       "mean           2.335681e+06      3899.980565  \n",
       "std            2.091778e+06      4570.767877  \n",
       "min            3.961000e+04        37.040000  \n",
       "25%            1.146444e+06      1427.460000  \n",
       "50%            1.783456e+06      2512.030000  \n",
       "75%            2.813594e+06      4539.015000  \n",
       "max            2.919102e+07     55755.080000  "
      ]
     },
     "execution_count": 6,
     "metadata": {},
     "output_type": "execute_result"
    }
   ],
   "source": [
    "data.describe()"
   ]
  },
  {
   "cell_type": "code",
   "execution_count": 7,
   "id": "9c5400bc",
   "metadata": {},
   "outputs": [],
   "source": [
    "#Sorting the dataset with Date column values\n",
    "from sklearn.preprocessing import MinMaxScaler\n",
    "data['Date']=pd.to_datetime(data['Date'])\n",
    "df=data.sort_values(by='Date')"
   ]
  },
  {
   "cell_type": "code",
   "execution_count": 8,
   "id": "7cc6bc1e",
   "metadata": {},
   "outputs": [],
   "source": [
    "df.reset_index(inplace=True)"
   ]
  },
  {
   "cell_type": "code",
   "execution_count": 9,
   "id": "9180c261",
   "metadata": {},
   "outputs": [
    {
     "data": {
      "text/html": [
       "<div>\n",
       "<style scoped>\n",
       "    .dataframe tbody tr th:only-of-type {\n",
       "        vertical-align: middle;\n",
       "    }\n",
       "\n",
       "    .dataframe tbody tr th {\n",
       "        vertical-align: top;\n",
       "    }\n",
       "\n",
       "    .dataframe thead th {\n",
       "        text-align: right;\n",
       "    }\n",
       "</style>\n",
       "<table border=\"1\" class=\"dataframe\">\n",
       "  <thead>\n",
       "    <tr style=\"text-align: right;\">\n",
       "      <th></th>\n",
       "      <th>index</th>\n",
       "      <th>Date</th>\n",
       "      <th>Open</th>\n",
       "      <th>High</th>\n",
       "      <th>Low</th>\n",
       "      <th>Last</th>\n",
       "      <th>Close</th>\n",
       "      <th>Total Trade Quantity</th>\n",
       "      <th>Turnover (Lacs)</th>\n",
       "    </tr>\n",
       "  </thead>\n",
       "  <tbody>\n",
       "    <tr>\n",
       "      <th>0</th>\n",
       "      <td>2034</td>\n",
       "      <td>2010-07-21</td>\n",
       "      <td>122.10</td>\n",
       "      <td>123.00</td>\n",
       "      <td>121.05</td>\n",
       "      <td>121.10</td>\n",
       "      <td>121.55</td>\n",
       "      <td>658666</td>\n",
       "      <td>803.56</td>\n",
       "    </tr>\n",
       "    <tr>\n",
       "      <th>1</th>\n",
       "      <td>2033</td>\n",
       "      <td>2010-07-22</td>\n",
       "      <td>120.30</td>\n",
       "      <td>122.00</td>\n",
       "      <td>120.25</td>\n",
       "      <td>120.75</td>\n",
       "      <td>120.90</td>\n",
       "      <td>293312</td>\n",
       "      <td>355.17</td>\n",
       "    </tr>\n",
       "    <tr>\n",
       "      <th>2</th>\n",
       "      <td>2032</td>\n",
       "      <td>2010-07-23</td>\n",
       "      <td>121.80</td>\n",
       "      <td>121.95</td>\n",
       "      <td>120.25</td>\n",
       "      <td>120.35</td>\n",
       "      <td>120.65</td>\n",
       "      <td>281312</td>\n",
       "      <td>340.31</td>\n",
       "    </tr>\n",
       "    <tr>\n",
       "      <th>3</th>\n",
       "      <td>2031</td>\n",
       "      <td>2010-07-26</td>\n",
       "      <td>120.10</td>\n",
       "      <td>121.00</td>\n",
       "      <td>117.10</td>\n",
       "      <td>117.10</td>\n",
       "      <td>117.60</td>\n",
       "      <td>658440</td>\n",
       "      <td>780.01</td>\n",
       "    </tr>\n",
       "    <tr>\n",
       "      <th>4</th>\n",
       "      <td>2030</td>\n",
       "      <td>2010-07-27</td>\n",
       "      <td>117.60</td>\n",
       "      <td>119.50</td>\n",
       "      <td>112.00</td>\n",
       "      <td>118.80</td>\n",
       "      <td>118.65</td>\n",
       "      <td>586100</td>\n",
       "      <td>694.98</td>\n",
       "    </tr>\n",
       "    <tr>\n",
       "      <th>...</th>\n",
       "      <td>...</td>\n",
       "      <td>...</td>\n",
       "      <td>...</td>\n",
       "      <td>...</td>\n",
       "      <td>...</td>\n",
       "      <td>...</td>\n",
       "      <td>...</td>\n",
       "      <td>...</td>\n",
       "      <td>...</td>\n",
       "    </tr>\n",
       "    <tr>\n",
       "      <th>2030</th>\n",
       "      <td>4</td>\n",
       "      <td>2018-09-24</td>\n",
       "      <td>233.55</td>\n",
       "      <td>239.20</td>\n",
       "      <td>230.75</td>\n",
       "      <td>234.00</td>\n",
       "      <td>233.30</td>\n",
       "      <td>3423509</td>\n",
       "      <td>7999.55</td>\n",
       "    </tr>\n",
       "    <tr>\n",
       "      <th>2031</th>\n",
       "      <td>3</td>\n",
       "      <td>2018-09-25</td>\n",
       "      <td>233.30</td>\n",
       "      <td>236.75</td>\n",
       "      <td>232.00</td>\n",
       "      <td>236.25</td>\n",
       "      <td>236.10</td>\n",
       "      <td>2349368</td>\n",
       "      <td>5503.90</td>\n",
       "    </tr>\n",
       "    <tr>\n",
       "      <th>2032</th>\n",
       "      <td>2</td>\n",
       "      <td>2018-09-26</td>\n",
       "      <td>240.00</td>\n",
       "      <td>240.00</td>\n",
       "      <td>232.50</td>\n",
       "      <td>235.00</td>\n",
       "      <td>234.25</td>\n",
       "      <td>2240909</td>\n",
       "      <td>5248.60</td>\n",
       "    </tr>\n",
       "    <tr>\n",
       "      <th>2033</th>\n",
       "      <td>1</td>\n",
       "      <td>2018-09-27</td>\n",
       "      <td>234.55</td>\n",
       "      <td>236.80</td>\n",
       "      <td>231.10</td>\n",
       "      <td>233.80</td>\n",
       "      <td>233.25</td>\n",
       "      <td>5082859</td>\n",
       "      <td>11859.95</td>\n",
       "    </tr>\n",
       "    <tr>\n",
       "      <th>2034</th>\n",
       "      <td>0</td>\n",
       "      <td>2018-09-28</td>\n",
       "      <td>234.05</td>\n",
       "      <td>235.95</td>\n",
       "      <td>230.20</td>\n",
       "      <td>233.50</td>\n",
       "      <td>233.75</td>\n",
       "      <td>3069914</td>\n",
       "      <td>7162.35</td>\n",
       "    </tr>\n",
       "  </tbody>\n",
       "</table>\n",
       "<p>2035 rows × 9 columns</p>\n",
       "</div>"
      ],
      "text/plain": [
       "      index       Date    Open    High     Low    Last   Close  \\\n",
       "0      2034 2010-07-21  122.10  123.00  121.05  121.10  121.55   \n",
       "1      2033 2010-07-22  120.30  122.00  120.25  120.75  120.90   \n",
       "2      2032 2010-07-23  121.80  121.95  120.25  120.35  120.65   \n",
       "3      2031 2010-07-26  120.10  121.00  117.10  117.10  117.60   \n",
       "4      2030 2010-07-27  117.60  119.50  112.00  118.80  118.65   \n",
       "...     ...        ...     ...     ...     ...     ...     ...   \n",
       "2030      4 2018-09-24  233.55  239.20  230.75  234.00  233.30   \n",
       "2031      3 2018-09-25  233.30  236.75  232.00  236.25  236.10   \n",
       "2032      2 2018-09-26  240.00  240.00  232.50  235.00  234.25   \n",
       "2033      1 2018-09-27  234.55  236.80  231.10  233.80  233.25   \n",
       "2034      0 2018-09-28  234.05  235.95  230.20  233.50  233.75   \n",
       "\n",
       "      Total Trade Quantity  Turnover (Lacs)  \n",
       "0                   658666           803.56  \n",
       "1                   293312           355.17  \n",
       "2                   281312           340.31  \n",
       "3                   658440           780.01  \n",
       "4                   586100           694.98  \n",
       "...                    ...              ...  \n",
       "2030               3423509          7999.55  \n",
       "2031               2349368          5503.90  \n",
       "2032               2240909          5248.60  \n",
       "2033               5082859         11859.95  \n",
       "2034               3069914          7162.35  \n",
       "\n",
       "[2035 rows x 9 columns]"
      ]
     },
     "execution_count": 9,
     "metadata": {},
     "output_type": "execute_result"
    }
   ],
   "source": [
    "df"
   ]
  },
  {
   "cell_type": "code",
   "execution_count": 10,
   "id": "1e2fbe6b",
   "metadata": {},
   "outputs": [
    {
     "data": {
      "text/plain": [
       "Text(0.5, 1.0, 'Correlation Matrix')"
      ]
     },
     "execution_count": 10,
     "metadata": {},
     "output_type": "execute_result"
    },
    {
     "data": {
      "image/png": "[encoded data removed]",
      "text/plain": [
       "<Figure size 432x288 with 2 Axes>"
      ]
     },
     "metadata": {
      "needs_background": "light"
     },
     "output_type": "display_data"
    }
   ],
   "source": [
    "import seaborn as sns\n",
    "sns.heatmap(df.corr(),cmap=\"Reds\",annot=True)\n",
    "plt.title(\"Correlation Matrix\")"
   ]
  },
  {
   "cell_type": "code",
   "execution_count": 11,
   "id": "6178357d",
   "metadata": {},
   "outputs": [
    {
     "data": {
      "image/png": "[encoded data removed]",
      "text/plain": [
       "<Figure size 720x360 with 1 Axes>"
      ]
     },
     "metadata": {
      "needs_background": "light"
     },
     "output_type": "display_data"
    }
   ],
   "source": [
    "plt.figure(figsize=(10,5))\n",
    "plt.plot(df['Date'],df['Close'])\n",
    "plt.xlabel(\"Date\",fontsize=10)\n",
    "plt.ylabel(\"Close(Dollars)\",fontsize=10)\n",
    "plt.show()"
   ]
  },
  {
   "cell_type": "code",
   "execution_count": 12,
   "id": "b9ae9d7a",
   "metadata": {},
   "outputs": [
    {
     "data": {
      "text/plain": [
       "0       121.55\n",
       "1       120.90\n",
       "2       120.65\n",
       "3       117.60\n",
       "4       118.65\n",
       "         ...  \n",
       "2030    233.30\n",
       "2031    236.10\n",
       "2032    234.25\n",
       "2033    233.25\n",
       "2034    233.75\n",
       "Name: Close, Length: 2035, dtype: float64"
      ]
     },
     "execution_count": 12,
     "metadata": {},
     "output_type": "execute_result"
    }
   ],
   "source": [
    "df_close=df['Close']\n",
    "df_close"
   ]
  },
  {
   "cell_type": "code",
   "execution_count": 13,
   "id": "2d8eb617",
   "metadata": {},
   "outputs": [
    {
     "data": {
      "text/plain": [
       "array([[0.16584967],\n",
       "       [0.16319444],\n",
       "       [0.1621732 ],\n",
       "       ...,\n",
       "       [0.62622549],\n",
       "       [0.62214052],\n",
       "       [0.62418301]])"
      ]
     },
     "execution_count": 13,
     "metadata": {},
     "output_type": "execute_result"
    }
   ],
   "source": [
    "#Using the MinMaxScaler to transform the values between 0 and 1.\n",
    "scaler=MinMaxScaler(feature_range=(0,1))\n",
    "df_close=scaler.fit_transform(np.array(df_close).reshape(-1,1))\n",
    "df_close"
   ]
  },
  {
   "cell_type": "markdown",
   "id": "dde25bd4",
   "metadata": {},
   "source": [
    "##### Preparing data for training and testing"
   ]
  },
  {
   "cell_type": "code",
   "execution_count": 14,
   "id": "5fa64f85",
   "metadata": {},
   "outputs": [],
   "source": [
    "train_data=df_close[0:int(len(df_close)*0.80),:]\n",
    "test_data=df_close[int(len(df_close)*0.80):len(df_close),:1]"
   ]
  },
  {
   "cell_type": "code",
   "execution_count": 15,
   "id": "db10166a",
   "metadata": {},
   "outputs": [
    {
     "data": {
      "text/plain": [
       "1628"
      ]
     },
     "execution_count": 15,
     "metadata": {},
     "output_type": "execute_result"
    }
   ],
   "source": [
    "#traing data size\n",
    "int(len(df_close)*0.80)"
   ]
  },
  {
   "cell_type": "code",
   "execution_count": 16,
   "id": "00c90e97",
   "metadata": {},
   "outputs": [
    {
     "data": {
      "text/plain": [
       "407"
      ]
     },
     "execution_count": 16,
     "metadata": {},
     "output_type": "execute_result"
    }
   ],
   "source": [
    "#Testing data size\n",
    "len(df_close)-int(len(df_close)*0.80)"
   ]
  },
  {
   "cell_type": "code",
   "execution_count": 17,
   "id": "80d6533c",
   "metadata": {},
   "outputs": [
    {
     "data": {
      "text/plain": [
       "array([[0.16584967],\n",
       "       [0.16319444],\n",
       "       [0.1621732 ],\n",
       "       ...,\n",
       "       [0.24877451],\n",
       "       [0.25245098],\n",
       "       [0.24795752]])"
      ]
     },
     "execution_count": 17,
     "metadata": {},
     "output_type": "execute_result"
    }
   ],
   "source": [
    "train_data"
   ]
  },
  {
   "cell_type": "code",
   "execution_count": 18,
   "id": "74a46cd1",
   "metadata": {},
   "outputs": [
    {
     "data": {
      "text/plain": [
       "array([[0.26633987],\n",
       "       [0.25714869],\n",
       "       [0.25735294],\n",
       "       [0.24918301],\n",
       "       [0.24611928],\n",
       "       [0.23611111],\n",
       "       [0.24162582],\n",
       "       [0.24183007],\n",
       "       [0.24775327],\n",
       "       [0.24775327],\n",
       "       [0.24121732],\n",
       "       [0.23815359],\n",
       "       [0.23672386],\n",
       "       [0.23325163],\n",
       "       [0.2559232 ],\n",
       "       [0.24571078],\n",
       "       [0.25490196],\n",
       "       [0.25449346],\n",
       "       [0.25245098],\n",
       "       [0.24693627],\n",
       "       [0.24448529],\n",
       "       [0.22937092],\n",
       "       [0.23917484],\n",
       "       [0.24489379],\n",
       "       [0.26041667],\n",
       "       [0.26082516],\n",
       "       [0.26756536],\n",
       "       [0.26531863],\n",
       "       [0.25388072],\n",
       "       [0.28860294],\n",
       "       [0.28676471],\n",
       "       [0.27634804],\n",
       "       [0.28431373],\n",
       "       [0.28451797],\n",
       "       [0.28267974],\n",
       "       [0.28431373],\n",
       "       [0.28982843],\n",
       "       [0.29289216],\n",
       "       [0.29452614],\n",
       "       [0.28451797],\n",
       "       [0.28594771],\n",
       "       [0.29595588],\n",
       "       [0.28921569],\n",
       "       [0.28410948],\n",
       "       [0.27982026],\n",
       "       [0.2745098 ],\n",
       "       [0.28288399],\n",
       "       [0.29084967],\n",
       "       [0.28737745],\n",
       "       [0.29003268],\n",
       "       [0.28901144],\n",
       "       [0.29738562],\n",
       "       [0.29064542],\n",
       "       [0.29473039],\n",
       "       [0.31352124],\n",
       "       [0.30739379],\n",
       "       [0.30392157],\n",
       "       [0.29146242],\n",
       "       [0.29268791],\n",
       "       [0.29861111],\n",
       "       [0.30187908],\n",
       "       [0.29840686],\n",
       "       [0.29289216],\n",
       "       [0.30085784],\n",
       "       [0.3002451 ],\n",
       "       [0.29370915],\n",
       "       [0.27185458],\n",
       "       [0.28002451],\n",
       "       [0.27308007],\n",
       "       [0.26062092],\n",
       "       [0.24816176],\n",
       "       [0.25367647],\n",
       "       [0.26940359],\n",
       "       [0.26327614],\n",
       "       [0.26388889],\n",
       "       [0.27961601],\n",
       "       [0.29187092],\n",
       "       [0.30187908],\n",
       "       [0.30228758],\n",
       "       [0.2943219 ],\n",
       "       [0.30473856],\n",
       "       [0.30085784],\n",
       "       [0.30004085],\n",
       "       [0.29064542],\n",
       "       [0.30841503],\n",
       "       [0.31658497],\n",
       "       [0.3192402 ],\n",
       "       [0.31556373],\n",
       "       [0.30821078],\n",
       "       [0.31004902],\n",
       "       [0.30984477],\n",
       "       [0.30147059],\n",
       "       [0.28676471],\n",
       "       [0.27124183],\n",
       "       [0.27859477],\n",
       "       [0.27593954],\n",
       "       [0.28472222],\n",
       "       [0.28860294],\n",
       "       [0.28227124],\n",
       "       [0.30718954],\n",
       "       [0.29575163],\n",
       "       [0.31372549],\n",
       "       [0.3496732 ],\n",
       "       [0.36172386],\n",
       "       [0.37908497],\n",
       "       [0.38582516],\n",
       "       [0.3809232 ],\n",
       "       [0.39236111],\n",
       "       [0.37908497],\n",
       "       [0.38480392],\n",
       "       [0.3690768 ],\n",
       "       [0.37275327],\n",
       "       [0.36376634],\n",
       "       [0.36846405],\n",
       "       [0.37275327],\n",
       "       [0.35723039],\n",
       "       [0.36029412],\n",
       "       [0.3619281 ],\n",
       "       [0.35355392],\n",
       "       [0.34375   ],\n",
       "       [0.3500817 ],\n",
       "       [0.34926471],\n",
       "       [0.36560458],\n",
       "       [0.34742647],\n",
       "       [0.3314951 ],\n",
       "       [0.3065768 ],\n",
       "       [0.34007353],\n",
       "       [0.3995098 ],\n",
       "       [0.46119281],\n",
       "       [0.44791667],\n",
       "       [0.46343954],\n",
       "       [0.47058824],\n",
       "       [0.44485294],\n",
       "       [0.47222222],\n",
       "       [0.4628268 ],\n",
       "       [0.45894608],\n",
       "       [0.44689542],\n",
       "       [0.47426471],\n",
       "       [0.47814542],\n",
       "       [0.47651144],\n",
       "       [0.45894608],\n",
       "       [0.47283497],\n",
       "       [0.51062092],\n",
       "       [0.50980392],\n",
       "       [0.51450163],\n",
       "       [0.52410131],\n",
       "       [0.53553922],\n",
       "       [0.51613562],\n",
       "       [0.53553922],\n",
       "       [0.52941176],\n",
       "       [0.54064542],\n",
       "       [0.55249183],\n",
       "       [0.54227941],\n",
       "       [0.53615196],\n",
       "       [0.49101307],\n",
       "       [0.47263072],\n",
       "       [0.50531046],\n",
       "       [0.48059641],\n",
       "       [0.49918301],\n",
       "       [0.51000817],\n",
       "       [0.5126634 ],\n",
       "       [0.50653595],\n",
       "       [0.5249183 ],\n",
       "       [0.52553105],\n",
       "       [0.52022059],\n",
       "       [0.52083333],\n",
       "       [0.52471405],\n",
       "       [0.53533497],\n",
       "       [0.52818627],\n",
       "       [0.52553105],\n",
       "       [0.52839052],\n",
       "       [0.51409314],\n",
       "       [0.50510621],\n",
       "       [0.49897876],\n",
       "       [0.52573529],\n",
       "       [0.50796569],\n",
       "       [0.52634804],\n",
       "       [0.57005719],\n",
       "       [0.59579248],\n",
       "       [0.59640523],\n",
       "       [0.59987745],\n",
       "       [0.59395425],\n",
       "       [0.58966503],\n",
       "       [0.62806373],\n",
       "       [0.58843954],\n",
       "       [0.58639706],\n",
       "       [0.65155229],\n",
       "       [0.63398693],\n",
       "       [0.62683824],\n",
       "       [0.67708333],\n",
       "       [0.6942402 ],\n",
       "       [0.69852941],\n",
       "       [0.7310049 ],\n",
       "       [0.79227941],\n",
       "       [0.78513072],\n",
       "       [0.78880719],\n",
       "       [0.79187092],\n",
       "       [0.80780229],\n",
       "       [0.80269608],\n",
       "       [0.84477124],\n",
       "       [0.81392974],\n",
       "       [0.84211601],\n",
       "       [0.82761438],\n",
       "       [0.80923203],\n",
       "       [0.8129085 ],\n",
       "       [0.79248366],\n",
       "       [0.82945261],\n",
       "       [0.84763072],\n",
       "       [0.8880719 ],\n",
       "       [0.84497549],\n",
       "       [0.83129085],\n",
       "       [0.8306781 ],\n",
       "       [0.84109477],\n",
       "       [0.85743464],\n",
       "       [0.89746732],\n",
       "       [0.89828431],\n",
       "       [0.89542484],\n",
       "       [0.90604575],\n",
       "       [0.91911765],\n",
       "       [0.91748366],\n",
       "       [0.92177288],\n",
       "       [0.96180556],\n",
       "       [0.94750817],\n",
       "       [0.94035948],\n",
       "       [0.94056373],\n",
       "       [0.94485294],\n",
       "       [0.94771242],\n",
       "       [0.96670752],\n",
       "       [0.95731209],\n",
       "       [0.95241013],\n",
       "       [0.94914216],\n",
       "       [1.        ],\n",
       "       [0.98876634],\n",
       "       [0.96180556],\n",
       "       [0.9501634 ],\n",
       "       [0.91707516],\n",
       "       [0.92892157],\n",
       "       [0.93096405],\n",
       "       [0.92422386],\n",
       "       [0.9121732 ],\n",
       "       [0.9121732 ],\n",
       "       [0.90216503],\n",
       "       [0.91115196],\n",
       "       [0.85661765],\n",
       "       [0.84722222],\n",
       "       [0.79207516],\n",
       "       [0.78492647],\n",
       "       [0.75878268],\n",
       "       [0.81372549],\n",
       "       [0.81495098],\n",
       "       [0.80596405],\n",
       "       [0.83394608],\n",
       "       [0.82107843],\n",
       "       [0.80923203],\n",
       "       [0.79513889],\n",
       "       [0.76388889],\n",
       "       [0.74305556],\n",
       "       [0.75837418],\n",
       "       [0.74019608],\n",
       "       [0.77512255],\n",
       "       [0.78656046],\n",
       "       [0.79268791],\n",
       "       [0.79473039],\n",
       "       [0.79207516],\n",
       "       [0.79534314],\n",
       "       [0.78921569],\n",
       "       [0.76776961],\n",
       "       [0.78615196],\n",
       "       [0.76552288],\n",
       "       [0.79697712],\n",
       "       [0.8057598 ],\n",
       "       [0.80698529],\n",
       "       [0.81147876],\n",
       "       [0.78206699],\n",
       "       [0.73386438],\n",
       "       [0.73978758],\n",
       "       [0.74448529],\n",
       "       [0.72671569],\n",
       "       [0.72283497],\n",
       "       [0.74040033],\n",
       "       [0.74693627],\n",
       "       [0.72630719],\n",
       "       [0.80065359],\n",
       "       [0.79187092],\n",
       "       [0.77328431],\n",
       "       [0.78451797],\n",
       "       [0.78329248],\n",
       "       [0.80412582],\n",
       "       [0.79473039],\n",
       "       [0.7879902 ],\n",
       "       [0.7879902 ],\n",
       "       [0.79473039],\n",
       "       [0.81168301],\n",
       "       [0.81699346],\n",
       "       [0.82986111],\n",
       "       [0.83843954],\n",
       "       [0.83884804],\n",
       "       [0.82781863],\n",
       "       [0.82598039],\n",
       "       [0.85028595],\n",
       "       [0.85886438],\n",
       "       [0.86254085],\n",
       "       [0.88480392],\n",
       "       [0.86519608],\n",
       "       [0.84027778],\n",
       "       [0.84497549],\n",
       "       [0.87111928],\n",
       "       [0.85273693],\n",
       "       [0.86213235],\n",
       "       [0.83455882],\n",
       "       [0.84375   ],\n",
       "       [0.71466503],\n",
       "       [0.66053922],\n",
       "       [0.65420752],\n",
       "       [0.68035131],\n",
       "       [0.6689134 ],\n",
       "       [0.66421569],\n",
       "       [0.67892157],\n",
       "       [0.69138072],\n",
       "       [0.70894608],\n",
       "       [0.72263072],\n",
       "       [0.73406863],\n",
       "       [0.72120098],\n",
       "       [0.74979575],\n",
       "       [0.7689951 ],\n",
       "       [0.74468954],\n",
       "       [0.7120098 ],\n",
       "       [0.74673203],\n",
       "       [0.75490196],\n",
       "       [0.76041667],\n",
       "       [0.75980392],\n",
       "       [0.74652778],\n",
       "       [0.76245915],\n",
       "       [0.77062908],\n",
       "       [0.80412582],\n",
       "       [0.78104575],\n",
       "       [0.79411765],\n",
       "       [0.76021242],\n",
       "       [0.73488562],\n",
       "       [0.72406046],\n",
       "       [0.73999183],\n",
       "       [0.74979575],\n",
       "       [0.76143791],\n",
       "       [0.75428922],\n",
       "       [0.74754902],\n",
       "       [0.76960784],\n",
       "       [0.7495915 ],\n",
       "       [0.81719771],\n",
       "       [0.80208333],\n",
       "       [0.77736928],\n",
       "       [0.75714869],\n",
       "       [0.79370915],\n",
       "       [0.79166667],\n",
       "       [0.77144608],\n",
       "       [0.75265523],\n",
       "       [0.72691993],\n",
       "       [0.6629902 ],\n",
       "       [0.68198529],\n",
       "       [0.64419935],\n",
       "       [0.62152778],\n",
       "       [0.6439951 ],\n",
       "       [0.66319444],\n",
       "       [0.67544935],\n",
       "       [0.63705065],\n",
       "       [0.64603758],\n",
       "       [0.65890523],\n",
       "       [0.65870098],\n",
       "       [0.67790033],\n",
       "       [0.63194444],\n",
       "       [0.63112745],\n",
       "       [0.62785948],\n",
       "       [0.64767157],\n",
       "       [0.63991013],\n",
       "       [0.63480392],\n",
       "       [0.63868464],\n",
       "       [0.62336601],\n",
       "       [0.62745098],\n",
       "       [0.63970588],\n",
       "       [0.64705882],\n",
       "       [0.66196895],\n",
       "       [0.67075163],\n",
       "       [0.65196078],\n",
       "       [0.63112745],\n",
       "       [0.61294935],\n",
       "       [0.6376634 ],\n",
       "       [0.62254902],\n",
       "       [0.62745098],\n",
       "       [0.63337418],\n",
       "       [0.62642974],\n",
       "       [0.63623366],\n",
       "       [0.58312908],\n",
       "       [0.57781863],\n",
       "       [0.57230392],\n",
       "       [0.58006536],\n",
       "       [0.57618464],\n",
       "       [0.55167484],\n",
       "       [0.57883987],\n",
       "       [0.625     ],\n",
       "       [0.63582516],\n",
       "       [0.62949346],\n",
       "       [0.62888072],\n",
       "       [0.62765523],\n",
       "       [0.62234477],\n",
       "       [0.63378268],\n",
       "       [0.62622549],\n",
       "       [0.62214052],\n",
       "       [0.62418301]])"
      ]
     },
     "execution_count": 18,
     "metadata": {},
     "output_type": "execute_result"
    }
   ],
   "source": [
    "test_data"
   ]
  },
  {
   "cell_type": "code",
   "execution_count": 19,
   "id": "10ce0b1d",
   "metadata": {},
   "outputs": [],
   "source": [
    "#Since we have Time series Dataset, we are going to link the values of datasets to each data values\n",
    "def create_dataset(dataset, time_step=1):\n",
    "    x_data, y_data=[],[]\n",
    "    for i in range(len(dataset)-time_step-1):\n",
    "        a=dataset[i:(i+time_step),0]\n",
    "        x_data.append(a)\n",
    "        y_data.append(dataset[i+time_step, 0])\n",
    "    return np.array(x_data),np.array(y_data)\n",
    "time_step=100\n",
    "x_train, y_train= create_dataset(train_data, time_step)\n",
    "x_test,y_test=create_dataset(test_data,time_step)"
   ]
  },
  {
   "cell_type": "code",
   "execution_count": 20,
   "id": "d5c111ca",
   "metadata": {},
   "outputs": [
    {
     "name": "stdout",
     "output_type": "stream",
     "text": [
      "(1527, 100)\n",
      "(1527,)\n",
      "(306, 100)\n",
      "(306,)\n"
     ]
    },
    {
     "data": {
      "text/plain": [
       "(None, None, None, None)"
      ]
     },
     "execution_count": 20,
     "metadata": {},
     "output_type": "execute_result"
    }
   ],
   "source": [
    "print(x_train.shape), print(y_train.shape), print(x_test.shape), print(y_test.shape)"
   ]
  },
  {
   "cell_type": "code",
   "execution_count": 21,
   "id": "2b07f4e1",
   "metadata": {},
   "outputs": [],
   "source": [
    "x_train=x_train.reshape(x_train.shape[0],x_train.shape[1],1)\n",
    "x_test=x_test.reshape(x_test.shape[0],x_test.shape[1],1)"
   ]
  },
  {
   "cell_type": "markdown",
   "id": "36eb8918",
   "metadata": {},
   "source": [
    "##### Model Building"
   ]
  },
  {
   "cell_type": "markdown",
   "id": "7e5bca28",
   "metadata": {},
   "source": [
    "LSTMs are widely used for sequence prediction problems and have proven to be extremely effective. The reason they work so well is that LSTM can store past important information and forget the information that is not.\n",
    "\n",
    "LSTM has three gates:\n",
    "\n",
    "The input gate: The input gate adds information to the cell state.\n",
    "\n",
    "The forget gate: It removes the information that is no longer required by the model,\n",
    "\n",
    "The output gate: Output gate at LSTM selects the information to be shown as output.\n",
    "\n",
    "While implementing any LSTM, we should always reshape our x_train in 3_D, add 1 for the times step and another 1 is given to the LSTM."
   ]
  },
  {
   "cell_type": "code",
   "execution_count": 22,
   "id": "625dd2a2",
   "metadata": {},
   "outputs": [],
   "source": [
    "from tensorflow.keras.models import Sequential\n",
    "from tensorflow.keras.layers import Dense\n",
    "from tensorflow.keras.layers import LSTM"
   ]
  },
  {
   "cell_type": "code",
   "execution_count": 23,
   "id": "867dded3",
   "metadata": {},
   "outputs": [],
   "source": [
    "model=Sequential()\n",
    "model.add(LSTM(100,return_sequences=True,input_shape=(100,1)))\n",
    "model.add(LSTM(100,return_sequences=True))\n",
    "model.add(LSTM(100))\n",
    "model.add(Dense(1))\n",
    "model.compile(loss='mse',optimizer='adam')"
   ]
  },
  {
   "cell_type": "code",
   "execution_count": 24,
   "id": "ca9d9377",
   "metadata": {},
   "outputs": [
    {
     "name": "stdout",
     "output_type": "stream",
     "text": [
      "Epoch 1/50\n",
      "24/24 [==============================] - 66s 2s/step - loss: 0.0061 - val_loss: 0.0234\n",
      "Epoch 2/50\n",
      "24/24 [==============================] - 37s 2s/step - loss: 9.7578e-04 - val_loss: 0.0039\n",
      "Epoch 3/50\n",
      "24/24 [==============================] - 37s 2s/step - loss: 7.7520e-04 - val_loss: 0.0049\n",
      "Epoch 4/50\n",
      "24/24 [==============================] - 38s 2s/step - loss: 7.0379e-04 - val_loss: 0.0052\n",
      "Epoch 5/50\n",
      "24/24 [==============================] - 36s 1s/step - loss: 6.6009e-04 - val_loss: 0.0049\n",
      "Epoch 6/50\n",
      "24/24 [==============================] - 36s 2s/step - loss: 6.2466e-04 - val_loss: 0.0046\n",
      "Epoch 7/50\n",
      "24/24 [==============================] - 36s 2s/step - loss: 6.0513e-04 - val_loss: 0.0053\n",
      "Epoch 8/50\n",
      "24/24 [==============================] - 36s 1s/step - loss: 5.7507e-04 - val_loss: 0.0029\n",
      "Epoch 9/50\n",
      "24/24 [==============================] - 36s 2s/step - loss: 5.6995e-04 - val_loss: 0.0028\n",
      "Epoch 10/50\n",
      "24/24 [==============================] - 36s 2s/step - loss: 5.3835e-04 - val_loss: 0.0041\n",
      "Epoch 11/50\n",
      "24/24 [==============================] - 37s 2s/step - loss: 6.1611e-04 - val_loss: 0.0021\n",
      "Epoch 12/50\n",
      "24/24 [==============================] - 36s 2s/step - loss: 5.6940e-04 - val_loss: 0.0027\n",
      "Epoch 13/50\n",
      "24/24 [==============================] - 38s 2s/step - loss: 4.9318e-04 - val_loss: 0.0039\n",
      "Epoch 14/50\n",
      "24/24 [==============================] - 36s 2s/step - loss: 4.5739e-04 - val_loss: 0.0053\n",
      "Epoch 15/50\n",
      "24/24 [==============================] - 37s 2s/step - loss: 4.4493e-04 - val_loss: 0.0034\n",
      "Epoch 16/50\n",
      "24/24 [==============================] - 36s 2s/step - loss: 4.2577e-04 - val_loss: 0.0086\n",
      "Epoch 17/50\n",
      "24/24 [==============================] - 36s 2s/step - loss: 4.1436e-04 - val_loss: 0.0063\n",
      "Epoch 18/50\n",
      "24/24 [==============================] - 36s 2s/step - loss: 3.9910e-04 - val_loss: 0.0045\n",
      "Epoch 19/50\n",
      "24/24 [==============================] - 36s 1s/step - loss: 3.6701e-04 - val_loss: 0.0053\n",
      "Epoch 20/50\n",
      "24/24 [==============================] - 37s 2s/step - loss: 3.8107e-04 - val_loss: 0.0031\n",
      "Epoch 21/50\n",
      "24/24 [==============================] - 36s 2s/step - loss: 3.5369e-04 - val_loss: 0.0040\n",
      "Epoch 22/50\n",
      "24/24 [==============================] - 39s 2s/step - loss: 3.3807e-04 - val_loss: 0.0061\n",
      "Epoch 23/50\n",
      "24/24 [==============================] - 37s 2s/step - loss: 3.2788e-04 - val_loss: 0.0033\n",
      "Epoch 24/50\n",
      "24/24 [==============================] - 36s 2s/step - loss: 3.1152e-04 - val_loss: 0.0049\n",
      "Epoch 25/50\n",
      "24/24 [==============================] - 36s 1s/step - loss: 2.9693e-04 - val_loss: 0.0032\n",
      "Epoch 26/50\n",
      "24/24 [==============================] - 36s 1s/step - loss: 2.9448e-04 - val_loss: 0.0023\n",
      "Epoch 27/50\n",
      "24/24 [==============================] - 36s 2s/step - loss: 2.6906e-04 - val_loss: 0.0028\n",
      "Epoch 28/50\n",
      "24/24 [==============================] - 36s 1s/step - loss: 2.6843e-04 - val_loss: 0.0027\n",
      "Epoch 29/50\n",
      "24/24 [==============================] - 37s 2s/step - loss: 2.5241e-04 - val_loss: 0.0033\n",
      "Epoch 30/50\n",
      "24/24 [==============================] - 36s 2s/step - loss: 2.4096e-04 - val_loss: 0.0017\n",
      "Epoch 31/50\n",
      "24/24 [==============================] - 37s 2s/step - loss: 2.5098e-04 - val_loss: 0.0019\n",
      "Epoch 32/50\n",
      "24/24 [==============================] - 37s 2s/step - loss: 2.3028e-04 - val_loss: 0.0016\n",
      "Epoch 33/50\n",
      "24/24 [==============================] - 38s 2s/step - loss: 2.4014e-04 - val_loss: 0.0026\n",
      "Epoch 34/50\n",
      "24/24 [==============================] - 37s 2s/step - loss: 2.5981e-04 - val_loss: 0.0014\n",
      "Epoch 35/50\n",
      "24/24 [==============================] - 36s 1s/step - loss: 2.2050e-04 - val_loss: 0.0021\n",
      "Epoch 36/50\n",
      "24/24 [==============================] - 36s 2s/step - loss: 2.1823e-04 - val_loss: 0.0040\n",
      "Epoch 37/50\n",
      "24/24 [==============================] - 37s 2s/step - loss: 2.0420e-04 - val_loss: 0.0023\n",
      "Epoch 38/50\n",
      "24/24 [==============================] - 36s 2s/step - loss: 1.9209e-04 - val_loss: 0.0012\n",
      "Epoch 39/50\n",
      "24/24 [==============================] - 37s 2s/step - loss: 1.8872e-04 - val_loss: 0.0019\n",
      "Epoch 40/50\n",
      "24/24 [==============================] - 36s 1s/step - loss: 1.8503e-04 - val_loss: 0.0020\n",
      "Epoch 41/50\n",
      "24/24 [==============================] - 35s 1s/step - loss: 1.7110e-04 - val_loss: 0.0018\n",
      "Epoch 42/50\n",
      "24/24 [==============================] - 35s 1s/step - loss: 1.6412e-04 - val_loss: 0.0020\n",
      "Epoch 43/50\n",
      "24/24 [==============================] - 36s 1s/step - loss: 1.6210e-04 - val_loss: 0.0011\n",
      "Epoch 44/50\n",
      "24/24 [==============================] - 36s 1s/step - loss: 1.7349e-04 - val_loss: 0.0014\n",
      "Epoch 45/50\n",
      "24/24 [==============================] - 36s 2s/step - loss: 1.8424e-04 - val_loss: 9.8869e-04\n",
      "Epoch 46/50\n",
      "24/24 [==============================] - 36s 1s/step - loss: 1.4989e-04 - val_loss: 0.0012\n",
      "Epoch 47/50\n",
      "24/24 [==============================] - 36s 1s/step - loss: 1.4915e-04 - val_loss: 0.0011\n",
      "Epoch 48/50\n",
      "24/24 [==============================] - 36s 2s/step - loss: 1.5024e-04 - val_loss: 6.7743e-04\n",
      "Epoch 49/50\n",
      "24/24 [==============================] - 36s 1s/step - loss: 1.5616e-04 - val_loss: 0.0012\n",
      "Epoch 50/50\n",
      "24/24 [==============================] - 36s 1s/step - loss: 1.4729e-04 - val_loss: 0.0021\n"
     ]
    },
    {
     "data": {
      "text/plain": [
       "<keras.callbacks.History at 0x17799e39310>"
      ]
     },
     "execution_count": 24,
     "metadata": {},
     "output_type": "execute_result"
    }
   ],
   "source": [
    "model.fit(x_train,y_train,validation_data=(x_test,y_test),epochs=50,batch_size=64,verbose=1)"
   ]
  },
  {
   "cell_type": "code",
   "execution_count": 25,
   "id": "07488335",
   "metadata": {},
   "outputs": [],
   "source": [
    "#predicting using the trained model\n",
    "train_prediction=model.predict(x_train)\n",
    "test_prediction=model.predict(x_test)"
   ]
  },
  {
   "cell_type": "code",
   "execution_count": 26,
   "id": "4e87c0fc",
   "metadata": {},
   "outputs": [
    {
     "data": {
      "text/plain": [
       "array([[0.12952423],\n",
       "       [0.12269235],\n",
       "       [0.1236721 ],\n",
       "       ...,\n",
       "       [0.19703677],\n",
       "       [0.21606666],\n",
       "       [0.23945262]], dtype=float32)"
      ]
     },
     "execution_count": 26,
     "metadata": {},
     "output_type": "execute_result"
    }
   ],
   "source": [
    "train_prediction"
   ]
  },
  {
   "cell_type": "code",
   "execution_count": 27,
   "id": "b198ed36",
   "metadata": {},
   "outputs": [],
   "source": [
    "#Scaling the predicted array back to original form\n",
    "train_predict=scaler.inverse_transform(train_prediction)\n",
    "test_predict=scaler.inverse_transform(test_prediction)"
   ]
  },
  {
   "cell_type": "code",
   "execution_count": 28,
   "id": "b8dd4a27",
   "metadata": {},
   "outputs": [
    {
     "data": {
      "text/plain": [
       "array([[112.65753 ],\n",
       "       [110.985085],\n",
       "       [111.22493 ],\n",
       "       ...,\n",
       "       [129.1846  ],\n",
       "       [133.84312 ],\n",
       "       [139.568   ]], dtype=float32)"
      ]
     },
     "execution_count": 28,
     "metadata": {},
     "output_type": "execute_result"
    }
   ],
   "source": [
    "train_predict"
   ]
  },
  {
   "cell_type": "code",
   "execution_count": 29,
   "id": "b5c33fd8",
   "metadata": {},
   "outputs": [
    {
     "data": {
      "text/plain": [
       "0.045803078830094414"
      ]
     },
     "execution_count": 29,
     "metadata": {},
     "output_type": "execute_result"
    }
   ],
   "source": [
    "#Calculating RMSE performance metric\n",
    "math.sqrt(mean_squared_error(y_test,test_prediction))"
   ]
  },
  {
   "cell_type": "markdown",
   "id": "7029ea94",
   "metadata": {},
   "source": [
    "##### Plotting"
   ]
  },
  {
   "cell_type": "code",
   "execution_count": 30,
   "id": "cd02a9d9",
   "metadata": {},
   "outputs": [
    {
     "data": {
      "image/png": "[encoded data removed]",
      "text/plain": [
       "<Figure size 720x504 with 1 Axes>"
      ]
     },
     "metadata": {
      "needs_background": "light"
     },
     "output_type": "display_data"
    }
   ],
   "source": [
    "plt.figure(figsize=(10,7))\n",
    "look_back=100\n",
    "trainPredictplot=np.empty_like(df_close)\n",
    "trainPredictplot[:,:]=np.nan\n",
    "trainPredictplot[look_back:len(train_predict)+look_back,:]=train_predict\n",
    "testPredictplot=np.empty_like(df_close)\n",
    "testPredictplot[:,:]=np.nan\n",
    "testPredictplot[len(train_predict)+(look_back*2)+1:len(df_close)-1,:]=test_predict\n",
    "plt.plot(scaler.inverse_transform(df_close))\n",
    "plt.plot(trainPredictplot)\n",
    "plt.plot(testPredictplot)\n",
    "plt.show()"
   ]
  },
  {
   "cell_type": "markdown",
   "id": "6dc626ab",
   "metadata": {},
   "source": [
    "Blue indicates the Complete data,\n",
    "Green indicates the predicted data, and\n",
    "Orange indicates the train data."
   ]
  },
  {
   "cell_type": "code",
   "execution_count": 31,
   "id": "441badf2",
   "metadata": {},
   "outputs": [],
   "source": [
    "df_close = df_close.reshape((-1))\n",
    "next_no_of_days=30\n",
    "def predict(next_no_of_days, model):\n",
    "    prediction_list = df_close[-100:]\n",
    "    \n",
    "    for _ in range(next_no_of_days):\n",
    "        x = prediction_list[-100:]\n",
    "        x = x.reshape((1, 100, 1))\n",
    "        out = model.predict(x)[0][0]\n",
    "        prediction_list = np.append(prediction_list, out)\n",
    "    prediction_list = prediction_list[100-1:]\n",
    "        \n",
    "    return prediction_list\n",
    "    \n",
    "def predict_dates(next_no_of_days):\n",
    "    last_date = df['Date'].values[-1]\n",
    "    prediction_dates = pd.date_range(last_date, periods=next_no_of_days+1).tolist()\n",
    "    return prediction_dates\n",
    "\n",
    "forecast = predict(next_no_of_days, model)\n",
    "forecast_dates = predict_dates(next_no_of_days)"
   ]
  },
  {
   "cell_type": "code",
   "execution_count": 34,
   "id": "69b0f7c5",
   "metadata": {},
   "outputs": [],
   "source": [
    "forecast_predict=forecast.reshape(1,-1)\n",
    "forecast_predict=scaler.inverse_transform(forecast_predict)\n",
    "forecast_predict=forecast_predict.ravel()\n",
    "fprices=pd.DataFrame()\n",
    "fprices[\"forecast\"] = pd.Series(list(forecast_predict))\n",
    "fprices[\"Dates\"]=pd.Series(list(forecast_dates))"
   ]
  },
  {
   "cell_type": "code",
   "execution_count": 49,
   "id": "3c549595",
   "metadata": {},
   "outputs": [
    {
     "data": {
      "image/png": "[encoded data removed]",
      "text/plain": [
       "<Figure size 720x504 with 1 Axes>"
      ]
     },
     "metadata": {
      "needs_background": "light"
     },
     "output_type": "display_data"
    }
   ],
   "source": [
    "plt.figure(figsize=(10,7))\n",
    "plt.plot(\"Date\",'Close',data=df)\n",
    "plt.plot(\"Dates\",\"forecast\",data=fprices,color='Red')\n",
    "plt.xlabel(\"Years\",fontsize=15)\n",
    "plt.ylabel(\"close(dollars)\",fontsize=15)\n",
    "plt.legend()\n",
    "plt.show()"
   ]
  }
 ],
 "metadata": {
  "kernelspec": {
   "display_name": "Python 3",
   "language": "python",
   "name": "python3"
  },
  "language_info": {
   "codemirror_mode": {
    "name": "ipython",
    "version": 3
   },
   "file_extension": ".py",
   "mimetype": "text/x-python",
   "name": "python",
   "nbconvert_exporter": "python",
   "pygments_lexer": "ipython3",
   "version": "3.8.8"
  }
 },
 "nbformat": 4,
 "nbformat_minor": 5
}
